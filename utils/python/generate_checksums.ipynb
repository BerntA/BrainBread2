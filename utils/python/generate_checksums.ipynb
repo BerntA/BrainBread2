{
 "cells": [
  {
   "cell_type": "code",
   "execution_count": 1,
   "metadata": {},
   "outputs": [],
   "source": [
    "import os\n",
    "import hashlib\n",
    "from ice_encryption import convertFiles"
   ]
  },
  {
   "cell_type": "code",
   "execution_count": 2,
   "metadata": {},
   "outputs": [],
   "source": [
    "def get_digest(file_path):\n",
    "    h = hashlib.sha1()\n",
    "    with open(file_path, 'rb') as file:\n",
    "        while True:\n",
    "            chunk = file.read(h.block_size)\n",
    "            if not chunk:\n",
    "                break\n",
    "            h.update(chunk)\n",
    "    return h.hexdigest().upper()"
   ]
  },
  {
   "cell_type": "code",
   "execution_count": 3,
   "metadata": {},
   "outputs": [],
   "source": [
    "STW = lambda x: r'Z:\\STEAMWORKS\\content\\brainbread2\\brainbread2_shared\\brainbread2\\{}'.format(x).replace('\\\\', '/')"
   ]
  },
  {
   "cell_type": "code",
   "execution_count": 4,
   "metadata": {},
   "outputs": [
    {
     "name": "stdout",
     "output_type": "stream",
     "text": [
      "\"Checksums\"\n",
      "{\n",
      "\t\"Scripts\"\n",
      "\t{\n",
      "%s1\n",
      "\t}\n",
      "\t\"Maps\"\n",
      "\t{\n",
      "%s2\n",
      "\t}\n",
      "\t\"Tags\"\n",
      "\t{\n",
      "\t\t\"developer tags\" \"http://infestus-game.com/hl2world/bb2data/developers.txt\"\n",
      "\t\t\"donator tags\" \"http://infestus-game.com/hl2world/bb2data/donators.txt\"\n",
      "\t\t\"tester tags\" \"http://infestus-game.com/hl2world/bb2data/testers.txt\"\n",
      "\t\t\"ban data\" \"http://infestus-game.com/hl2world/bb2data/bans.txt\"\n",
      "\t\t\"blacklist data\" \"http://infestus-game.com/hl2world/bb2data/blacklistedservers.txt\"\n",
      "\t\t//\"disabled\" \"0\"\n",
      "\t}\n",
      "}\n"
     ]
    }
   ],
   "source": [
    "template = '''\"Checksums\"\n",
    "{\n",
    "\t\"Scripts\"\n",
    "\t{\n",
    "%s1\n",
    "\t}\n",
    "\t\"Maps\"\n",
    "\t{\n",
    "%s2\n",
    "\t}\n",
    "\t\"Tags\"\n",
    "\t{\n",
    "\t\t\"developer tags\" \"http://infestus-game.com/hl2world/bb2data/developers.txt\"\n",
    "\t\t\"donator tags\" \"http://infestus-game.com/hl2world/bb2data/donators.txt\"\n",
    "\t\t\"tester tags\" \"http://infestus-game.com/hl2world/bb2data/testers.txt\"\n",
    "\t\t\"ban data\" \"http://infestus-game.com/hl2world/bb2data/bans.txt\"\n",
    "\t\t\"blacklist data\" \"http://infestus-game.com/hl2world/bb2data/blacklistedservers.txt\"\n",
    "\t\t//\"disabled\" \"0\"\n",
    "\t}\n",
    "}'''\n",
    "print(template)"
   ]
  },
  {
   "cell_type": "code",
   "execution_count": 5,
   "metadata": {},
   "outputs": [],
   "source": [
    "data = {}\n",
    "excluded = ['example_map', 'tutorial']\n",
    "\n",
    "for path, _, files in os.walk(STW(\"maps\"), topdown=True):\n",
    "    for f in [x.lower() for x in files if x.lower().endswith('.bsp') and x.lower()[:-4] not in excluded]:\n",
    "        data[f[:-4]] = os.path.getsize('{}/{}'.format(path, f)) if f.startswith('bbc_') or f.startswith('bba_') or f.startswith('bbs_') else 0\n",
    "\n",
    "template = template.replace('%s2', '\\n'.join(['\\t\\t\\\"{}\\\" \\\"{}\\\"'.format(k, v) for k, v in sorted(data.items())]))"
   ]
  },
  {
   "cell_type": "code",
   "execution_count": 6,
   "metadata": {},
   "outputs": [],
   "source": [
    "files_to_check = [\n",
    "    'data/game/game_base_player_arena.txt',\n",
    "    'data/game/game_base_player_deathmatch.txt',\n",
    "    'data/game/game_base_player_elimination.txt',\n",
    "    'data/game/game_base_player_objective.txt',\n",
    "    'data/game/game_base_player_powerups.txt',\n",
    "    'data/game/game_base_player_shared.txt',\n",
    "    'data/game/game_base_shared.txt',\n",
    "    'data/game/gamemode_shared.txt',\n",
    "\n",
    "    'data/npc/bandit.txt',\n",
    "    'data/npc/bandit_leader.txt',\n",
    "    'data/npc/bandit_johnson.txt',\n",
    "    'data/npc/fred.txt',\n",
    "    'data/npc/runner.txt',\n",
    "    'data/npc/walker.txt',\n",
    "    'data/npc/police.txt',\n",
    "    'data/npc/swat.txt',\n",
    "    'data/npc/riot.txt',\n",
    "    'data/npc/military.txt',\n",
    "\n",
    "    'scripts/weapon_beretta.txt',\n",
    "    'scripts/weapon_deagle.txt',\n",
    "    'scripts/weapon_akimbo_beretta.txt',\n",
    "    'scripts/weapon_glock17.txt',\n",
    "    'scripts/weapon_akimbo_glock17.txt',\n",
    "    'scripts/weapon_ak47.txt',\n",
    "    'scripts/weapon_g36c.txt',\n",
    "    'scripts/weapon_remington700.txt',\n",
    "    'scripts/weapon_remington.txt',\n",
    "    'scripts/weapon_benelli_m4.txt',\n",
    "    'scripts/weapon_winchester1894.txt',\n",
    "    'scripts/weapon_sawedoff.txt',\n",
    "    'scripts/weapon_akimbo_sawedoff.txt',\n",
    "    'scripts/weapon_mac11.txt',\n",
    "    'scripts/weapon_mp7.txt',\n",
    "    'scripts/weapon_mp5.txt',\n",
    "    'scripts/weapon_microuzi.txt',\n",
    "    'scripts/weapon_famas.txt',\n",
    "    'scripts/weapon_minigun.txt',\n",
    "    'scripts/weapon_flamethrower.txt',\n",
    "    'scripts/weapon_rex.txt',\n",
    "    'scripts/weapon_akimbo_rex.txt',\n",
    "    'scripts/weapon_zombhands.txt',\n",
    "    'scripts/weapon_hands.txt',\n",
    "    'scripts/weapon_machete.txt',\n",
    "    'scripts/weapon_baseballbat.txt',\n",
    "    'scripts/weapon_brick.txt',\n",
    "    'scripts/weapon_fireaxe.txt',\n",
    "    'scripts/weapon_sledgehammer.txt',\n",
    "    'scripts/weapon_frag.txt',\n",
    "    'scripts/weapon_propane.txt',\n",
    "    'scripts/weapon_hatchet.txt',\n",
    "    'scripts/weapon_m9_bayonet.txt', \n",
    "]"
   ]
  },
  {
   "cell_type": "code",
   "execution_count": 7,
   "metadata": {},
   "outputs": [],
   "source": [
    "checksummed_files = []\n",
    "for f in files_to_check:\n",
    "    try:\n",
    "        dig = get_digest(STW(f))\n",
    "        checksummed_files.append('\\t\\t\\\"{}\\\" \\\"{}\\\"'.format(f, dig))\n",
    "    except Exception as e:\n",
    "        continue\n",
    "\n",
    "template = template.replace('%s1', '\\n'.join(checksummed_files))"
   ]
  },
  {
   "cell_type": "code",
   "execution_count": 8,
   "metadata": {},
   "outputs": [],
   "source": [
    "with open('./checksums.txt', 'w') as f:\n",
    "    f.write(template)"
   ]
  },
  {
   "cell_type": "code",
   "execution_count": 9,
   "metadata": {},
   "outputs": [
    {
     "name": "stdout",
     "output_type": "stream",
     "text": [
      "\"Checksums\"\n",
      "{\n",
      "\t\"Scripts\"\n",
      "\t{\n",
      "\t\t\"data/game/game_base_player_arena.txt\" \"AC8F17D6BE544C06A99EBC6582BE4ACFEB024126\"\n",
      "\t\t\"data/game/game_base_player_deathmatch.txt\" \"C627255AB66E4C2D900E4FDF6FCD988E763A62EF\"\n",
      "\t\t\"data/game/game_base_player_elimination.txt\" \"8A83BA5EA07122F0301B8FD8112D288569926710\"\n",
      "\t\t\"data/game/game_base_player_objective.txt\" \"23DA5308F5B57158000FDFDD13ACAC865D263B38\"\n",
      "\t\t\"data/game/game_base_player_powerups.txt\" \"E0303A053F75E0E88864AA58195E99437204B8FC\"\n",
      "\t\t\"data/game/game_base_player_shared.txt\" \"CCB4FD30D7819995D1837803B035336708B10C63\"\n",
      "\t\t\"data/game/game_base_shared.txt\" \"07C2B9746AD2DEB2B4223AA3D87CCFE4A3CB0A92\"\n",
      "\t\t\"data/game/gamemode_shared.txt\" \"68E2041FEA60673F5C6A690732C49850A50148F2\"\n",
      "\t\t\"data/npc/bandit.txt\" \"76AB764A43BFFA77A6673FF2E0A14D64E2E87804\"\n",
      "\t\t\"data/npc/bandit_leader.txt\" \"42A04B94DA1A8078D62D58912262B03FA9D19A37\"\n",
      "\t\t\"data/npc/bandit_johnson.txt\" \"0B4B259C948918E0816B6629137B26F1905CBB0C\"\n",
      "\t\t\"data/npc/fred.txt\" \"0140D6BB6CA2465A1598A2E4509DA0A5BFC25F06\"\n",
      "\t\t\"data/npc/runner.txt\" \"89F655AF2F36D9384527ED8F7906E04FA5813DF1\"\n",
      "\t\t\"data/npc/walker.txt\" \"8169291C6719A82F024ED72AE0E5FB4411C09E9B\"\n",
      "\t\t\"data/npc/police.txt\" \"46E26FF19A2870BB49C12209E94BBE5A7ACA2AB6\"\n",
      "\t\t\"data/npc/swat.txt\" \"12564C63B27FDE3D6C3575F64D0DDB62EB42FBAD\"\n",
      "\t\t\"data/npc/riot.txt\" \"A10854A5B65F8ED9813ADDA6AED9774121B14F7C\"\n",
      "\t\t\"data/npc/military.txt\" \"07C621F2722DBC7C73394050A1087663F102E8F6\"\n",
      "\t\t\"scripts/weapon_beretta.txt\" \"01D6C9AFD1BF60ABC7A0810F30F90D23A9D50652\"\n",
      "\t\t\"scripts/weapon_deagle.txt\" \"DEE97B31831416A05A681A939FB1757D7E5DC455\"\n",
      "\t\t\"scripts/weapon_akimbo_beretta.txt\" \"C9954645B7E0F8FFD1F884268A2E3CCE878A702D\"\n",
      "\t\t\"scripts/weapon_glock17.txt\" \"91AF42093DC0009BCE0E7B70455EF25C6EFE9000\"\n",
      "\t\t\"scripts/weapon_akimbo_glock17.txt\" \"E877B902CB061E716A1A90A457F5B27E06B59137\"\n",
      "\t\t\"scripts/weapon_ak47.txt\" \"4C355924F800D0D7CF544403D43ED0EA573D69C2\"\n",
      "\t\t\"scripts/weapon_g36c.txt\" \"13A6DFEAAC08AA494CF0FC4EA5BC79B8AE01C041\"\n",
      "\t\t\"scripts/weapon_remington700.txt\" \"82FF4AF8154393C32C2597EF2705324E27178B32\"\n",
      "\t\t\"scripts/weapon_remington.txt\" \"FF44EF1F8BE30E64A49C3BF1D08E3E58C55C71DC\"\n",
      "\t\t\"scripts/weapon_benelli_m4.txt\" \"7DB4B5EF156ABC45076F96B573871C79B9DDBCAD\"\n",
      "\t\t\"scripts/weapon_winchester1894.txt\" \"3C12E6149EC50F1D11B00B7051CD05127CA62495\"\n",
      "\t\t\"scripts/weapon_sawedoff.txt\" \"F7C257AC648D2DDD727DF8343A76056279F7078D\"\n",
      "\t\t\"scripts/weapon_akimbo_sawedoff.txt\" \"D01CEDD2305241BED68D17CA465E7E05FC114277\"\n",
      "\t\t\"scripts/weapon_mac11.txt\" \"FCDEBD0B8E6506FDED9EF883D738CDDBB437A53A\"\n",
      "\t\t\"scripts/weapon_mp7.txt\" \"7459DD643EB8754AA670F91FE3049F628F7D81C4\"\n",
      "\t\t\"scripts/weapon_mp5.txt\" \"BC783678149AB6FFB8F7E96692E6C4971A3E2973\"\n",
      "\t\t\"scripts/weapon_microuzi.txt\" \"F8236254609DDFA4542FEDABC31B821567E9DA23\"\n",
      "\t\t\"scripts/weapon_famas.txt\" \"B5547DB1DE841137EEBBC040A49E290AE2A651A8\"\n",
      "\t\t\"scripts/weapon_minigun.txt\" \"46012BACA59289E12DB3AB2FFA24315063D15BA6\"\n",
      "\t\t\"scripts/weapon_flamethrower.txt\" \"60F11067112D013D7936FA31B417C4BEE181F3FA\"\n",
      "\t\t\"scripts/weapon_rex.txt\" \"79A8E94837858FFA99952CB1DA5BB009B11C7E87\"\n",
      "\t\t\"scripts/weapon_akimbo_rex.txt\" \"B689F69F162F78DD6FDF29BE79D6E8ADB48BC14D\"\n",
      "\t\t\"scripts/weapon_zombhands.txt\" \"AED2DF2204E8B4269ED864778666308D089EC8A9\"\n",
      "\t\t\"scripts/weapon_hands.txt\" \"13E53BB1BF4E16A9CCCB542DF22C84DAB962D5F1\"\n",
      "\t\t\"scripts/weapon_machete.txt\" \"1E63D9C514D0E46BBCCD58A985F360CC8338AB1B\"\n",
      "\t\t\"scripts/weapon_baseballbat.txt\" \"9D966C5EBF4FC9B9D09A1BE612515FE27F8177A3\"\n",
      "\t\t\"scripts/weapon_brick.txt\" \"C56769F38860F6F68468C783256E9A968BCCAB7B\"\n",
      "\t\t\"scripts/weapon_fireaxe.txt\" \"5721A07A90CF3A83CD09415E399D8DA8A079D567\"\n",
      "\t\t\"scripts/weapon_sledgehammer.txt\" \"05A1C576597C9750C45B036799B4B38EDAE5890E\"\n",
      "\t\t\"scripts/weapon_frag.txt\" \"57AFA145D6CE608D57C73439DE5B1FB51F74F36D\"\n",
      "\t\t\"scripts/weapon_propane.txt\" \"2CC77C90E2D4906B589E9604531F1EEA9688D4D2\"\n",
      "\t\t\"scripts/weapon_hatchet.txt\" \"11AF5642A17B506CAA36490CEA98E24F6773C1DC\"\n",
      "\t\t\"scripts/weapon_m9_bayonet.txt\" \"E9F3E9DE2FCC2B794AE4F495BE544B2A28EE39D4\"\n",
      "\t}\n",
      "\t\"Maps\"\n",
      "\t{\n",
      "\t\t\"bba_barracks\" \"6950420\"\n",
      "\t\t\"bba_cargo\" \"6301584\"\n",
      "\t\t\"bba_carnage\" \"11769620\"\n",
      "\t\t\"bba_colosseum\" \"3598144\"\n",
      "\t\t\"bba_coltec\" \"8218764\"\n",
      "\t\t\"bba_devilscrypt\" \"8072600\"\n",
      "\t\t\"bba_island\" \"2966956\"\n",
      "\t\t\"bba_rooftop\" \"12068784\"\n",
      "\t\t\"bba_salvage\" \"6586820\"\n",
      "\t\t\"bba_swamptrouble\" \"7275684\"\n",
      "\t\t\"bbc_compound\" \"14242964\"\n",
      "\t\t\"bbc_laststand\" \"21257084\"\n",
      "\t\t\"bbc_mecklenburg\" \"28497096\"\n",
      "\t\t\"bbc_nightclub\" \"17497792\"\n",
      "\t\t\"bbc_termoil\" \"34503792\"\n",
      "\t\t\"bbd_backyard\" \"0\"\n",
      "\t\t\"bbd_cargo\" \"0\"\n",
      "\t\t\"bbd_district\" \"0\"\n",
      "\t\t\"bbd_rishika\" \"0\"\n",
      "\t\t\"bbd_rooftop\" \"0\"\n",
      "\t\t\"bbd_surgery\" \"0\"\n",
      "\t\t\"bbd_termoil\" \"0\"\n",
      "\t\t\"bbe_barracks\" \"0\"\n",
      "\t\t\"bbe_surgery\" \"0\"\n",
      "\t}\n",
      "\t\"Tags\"\n",
      "\t{\n",
      "\t\t\"developer tags\" \"http://infestus-game.com/hl2world/bb2data/developers.txt\"\n",
      "\t\t\"donator tags\" \"http://infestus-game.com/hl2world/bb2data/donators.txt\"\n",
      "\t\t\"tester tags\" \"http://infestus-game.com/hl2world/bb2data/testers.txt\"\n",
      "\t\t\"ban data\" \"http://infestus-game.com/hl2world/bb2data/bans.txt\"\n",
      "\t\t\"blacklist data\" \"http://infestus-game.com/hl2world/bb2data/blacklistedservers.txt\"\n",
      "\t\t//\"disabled\" \"0\"\n",
      "\t}\n",
      "}\n"
     ]
    }
   ],
   "source": [
    "print(template)"
   ]
  },
  {
   "cell_type": "code",
   "execution_count": 10,
   "metadata": {},
   "outputs": [],
   "source": [
    "KEY = 'F3QxBzK6'\n",
    "EXT1 = '.txt'\n",
    "EXT2 = '.bbd'"
   ]
  },
  {
   "cell_type": "code",
   "execution_count": 11,
   "metadata": {},
   "outputs": [],
   "source": [
    "convertFiles('./', './', EXT1, EXT2, KEY) # Encrypt"
   ]
  },
  {
   "cell_type": "code",
   "execution_count": 3,
   "metadata": {},
   "outputs": [],
   "source": [
    "#convertFiles('./', './', EXT2, EXT1, KEY, True) # Decrypt"
   ]
  },
  {
   "cell_type": "code",
   "execution_count": null,
   "metadata": {},
   "outputs": [],
   "source": []
  }
 ],
 "metadata": {
  "kernelspec": {
   "display_name": "Python 3",
   "language": "python",
   "name": "python3"
  },
  "language_info": {
   "codemirror_mode": {
    "name": "ipython",
    "version": 3
   },
   "file_extension": ".py",
   "mimetype": "text/x-python",
   "name": "python",
   "nbconvert_exporter": "python",
   "pygments_lexer": "ipython3",
   "version": "3.7.6"
  }
 },
 "nbformat": 4,
 "nbformat_minor": 4
}
