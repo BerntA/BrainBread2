{
 "cells": [
  {
   "cell_type": "code",
   "execution_count": 1,
   "metadata": {},
   "outputs": [],
   "source": [
    "import os\n",
    "import hashlib\n",
    "from ice_encryption import convertFiles"
   ]
  },
  {
   "cell_type": "code",
   "execution_count": 2,
   "metadata": {},
   "outputs": [],
   "source": [
    "def fetchScripts():\n",
    "    \"\"\"Load scripts to hash from the game code.\"\"\"\n",
    "    with open('../../game/server/bb2/GameChecksumManager.cpp', 'r', encoding='ansi') as f:\n",
    "        scripts = []\n",
    "        for line in f:\n",
    "            line = line.replace('\\t', '').replace('\\r', '').replace('\\n', '').replace(',', '').replace('\\\"', '').strip()\n",
    "            if line.endswith('.txt'):\n",
    "                scripts.append(line)\n",
    "        return scripts\n",
    "    return []\n",
    "\n",
    "def get_digest(file_path):\n",
    "    h = hashlib.sha1()\n",
    "    with open(file_path, 'rb') as file:\n",
    "        while True:\n",
    "            chunk = file.read(h.block_size)\n",
    "            if not chunk:\n",
    "                break\n",
    "            h.update(chunk)\n",
    "    return h.hexdigest().upper()"
   ]
  },
  {
   "cell_type": "code",
   "execution_count": 3,
   "metadata": {},
   "outputs": [],
   "source": [
    "STW = lambda x: r'D:\\Dropbox\\STEAMWORKS\\content\\brainbread2\\brainbread2_shared\\brainbread2\\{}'.format(x).replace('\\\\', '/')"
   ]
  },
  {
   "cell_type": "code",
   "execution_count": null,
   "metadata": {},
   "outputs": [],
   "source": [
    "template = '''\"Checksums\"\n",
    "{\n",
    "    \"Scripts\"\n",
    "    {\n",
    "%s1\n",
    "    }\n",
    "    \"Maps\"\n",
    "    {\n",
    "%s2\n",
    "    }\n",
    "    \"Tags\"\n",
    "    {\n",
    "        \"developer tags\" \"http://infestus-game.com/hl2world/bb2data/developers.txt\"\n",
    "        \"donator tags\" \"http://infestus-game.com/hl2world/bb2data/donators.txt\"\n",
    "        \"tester tags\" \"http://infestus-game.com/hl2world/bb2data/testers.txt\"\n",
    "        \"ban data\" \"http://infestus-game.com/hl2world/bb2data/bans.txt\"\n",
    "        \"blacklist data\" \"http://infestus-game.com/hl2world/bb2data/blacklistedservers.txt\"\n",
    "    }\n",
    "    \"Events\"\n",
    "    {\n",
    "        \"XP\"\n",
    "        {\n",
    "            \"url\" \"http://worldtimeapi.org/api/ip\"\n",
    "            \"value\" \"2.5\"\n",
    "        }\n",
    "    }\n",
    "}'''\n",
    "print(template)"
   ]
  },
  {
   "cell_type": "code",
   "execution_count": 5,
   "metadata": {},
   "outputs": [],
   "source": [
    "data = {}\n",
    "excluded = ['example_map', 'tutorial']\n",
    "\n",
    "for path, _, files in os.walk(STW(\"maps\"), topdown=True):\n",
    "    for f in [x.lower() for x in files if x.lower().endswith('.bsp') and x.lower()[:-4] not in excluded]:\n",
    "        data[f[:-4]] = os.path.getsize('{}/{}'.format(path, f))\n",
    "\n",
    "template = template.replace('%s2', '\\n'.join(['\\t\\t\\\"{}\\\" \\\"{}\\\"'.format(k, v) for k, v in sorted(data.items())]))"
   ]
  },
  {
   "cell_type": "code",
   "execution_count": 6,
   "metadata": {},
   "outputs": [],
   "source": [
    "checksummed_files = []\n",
    "for f in fetchScripts():\n",
    "    try:\n",
    "        dig = get_digest(STW(f))\n",
    "        checksummed_files.append('\\t\\t\\\"{}\\\" \\\"{}\\\"'.format(f, dig))\n",
    "    except Exception as e:\n",
    "        continue\n",
    "\n",
    "template = template.replace('%s1', '\\n'.join(checksummed_files))"
   ]
  },
  {
   "cell_type": "code",
   "execution_count": 7,
   "metadata": {},
   "outputs": [],
   "source": [
    "with open('./checksums.txt', 'w') as f:\n",
    "    f.write(template)"
   ]
  },
  {
   "cell_type": "code",
   "execution_count": null,
   "metadata": {},
   "outputs": [],
   "source": [
    "print(template)"
   ]
  },
  {
   "cell_type": "code",
   "execution_count": 9,
   "metadata": {},
   "outputs": [],
   "source": [
    "convertFiles('./', './', '.txt', '.bbd', 'F3QxBzK6')"
   ]
  },
  {
   "cell_type": "code",
   "execution_count": null,
   "metadata": {},
   "outputs": [],
   "source": []
  }
 ],
 "metadata": {
  "kernelspec": {
   "display_name": "base",
   "language": "python",
   "name": "python3"
  },
  "language_info": {
   "codemirror_mode": {
    "name": "ipython",
    "version": 3
   },
   "file_extension": ".py",
   "mimetype": "text/x-python",
   "name": "python",
   "nbconvert_exporter": "python",
   "pygments_lexer": "ipython3",
   "version": "3.10.10"
  }
 },
 "nbformat": 4,
 "nbformat_minor": 4
}
