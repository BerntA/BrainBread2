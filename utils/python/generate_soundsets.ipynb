{
 "cells": [
  {
   "cell_type": "code",
   "execution_count": null,
   "metadata": {},
   "outputs": [],
   "source": [
    "import re\n",
    "import os"
   ]
  },
  {
   "cell_type": "code",
   "execution_count": null,
   "metadata": {},
   "outputs": [],
   "source": [
    "characters = [\n",
    "    'survivor1',\n",
    "    'joshua',\n",
    "    'neil',\n",
    "    'bb_chris',\n",
    "    'bb_pantsman',\n",
    "    'bb_joe',\n",
    "    'bb_mime',\n",
    "    'bb_security'    \n",
    "]"
   ]
  },
  {
   "cell_type": "code",
   "execution_count": null,
   "metadata": {},
   "outputs": [],
   "source": [
    "prefixes_human = [\n",
    "    'Pantsman',\n",
    "    'Charlie',\n",
    "    'Joshua',\n",
    "    'SecurityJohnsson',\n",
    "    'Seoras',\n",
    "]\n",
    "\n",
    "prefixes_zombo = [\n",
    "    'Default',\n",
    "    'Joshua',\n",
    "]"
   ]
  },
  {
   "cell_type": "code",
   "execution_count": null,
   "metadata": {},
   "outputs": [],
   "source": [
    "def getFriendlyName(name):\n",
    "    if name == 'SecurityJohnsson':\n",
    "        return 'Johnson'\n",
    "    elif name == 'Default':\n",
    "        return 'Classic'\n",
    "    return name"
   ]
  },
  {
   "cell_type": "code",
   "execution_count": null,
   "metadata": {},
   "outputs": [],
   "source": [
    "def printSoundsetList(token, characters, prefixes):\n",
    "    for c in characters:\n",
    "        for p in prefixes:\n",
    "            print('\\\"{}\\\"\\n{}\\n\\t\\\"Name\\\" \\\"{}\\\"\\n\\t\\\"Prefix\\\" \\\"{}\\\"\\n\\t\\\"CharacterLink\\\" \\\"{}\\\"\\n{}\\n'.format(\n",
    "            token, '{', getFriendlyName(p), p, c, '}'\n",
    "            ))"
   ]
  },
  {
   "cell_type": "code",
   "execution_count": null,
   "metadata": {},
   "outputs": [],
   "source": [
    "printSoundsetList('HumanPlayer', characters, prefixes_human)"
   ]
  },
  {
   "cell_type": "code",
   "execution_count": null,
   "metadata": {},
   "outputs": [],
   "source": [
    "printSoundsetList('ZombiePlayer', characters, prefixes_zombo)"
   ]
  }
 ],
 "metadata": {
  "kernelspec": {
   "display_name": "Python 3",
   "language": "python",
   "name": "python3"
  },
  "language_info": {
   "codemirror_mode": {
    "name": "ipython",
    "version": 3
   },
   "file_extension": ".py",
   "mimetype": "text/x-python",
   "name": "python",
   "nbconvert_exporter": "python",
   "pygments_lexer": "ipython3",
   "version": "3.7.6"
  }
 },
 "nbformat": 4,
 "nbformat_minor": 4
}
